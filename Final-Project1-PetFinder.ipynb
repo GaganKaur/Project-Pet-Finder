{
 "cells": [
  {
   "cell_type": "code",
   "execution_count": 68,
   "metadata": {
    "collapsed": true
   },
   "outputs": [],
   "source": [
    "import csv\n",
    "import numpy as np\n",
    "import pandas as pd\n",
    "import matplotlib.pyplot as plt"
   ]
  },
  {
   "cell_type": "code",
   "execution_count": 69,
   "metadata": {},
   "outputs": [
    {
     "data": {
      "text/html": [
       "<div>\n",
       "<style>\n",
       "    .dataframe thead tr:only-child th {\n",
       "        text-align: right;\n",
       "    }\n",
       "\n",
       "    .dataframe thead th {\n",
       "        text-align: left;\n",
       "    }\n",
       "\n",
       "    .dataframe tbody tr th {\n",
       "        vertical-align: top;\n",
       "    }\n",
       "</style>\n",
       "<table border=\"1\" class=\"dataframe\">\n",
       "  <thead>\n",
       "    <tr style=\"text-align: right;\">\n",
       "      <th></th>\n",
       "      <th>Outcome Type</th>\n",
       "      <th>Animal Type</th>\n",
       "      <th>Breed</th>\n",
       "      <th>Days upon Outcome</th>\n",
       "    </tr>\n",
       "  </thead>\n",
       "  <tbody>\n",
       "    <tr>\n",
       "      <th>0</th>\n",
       "      <td>Adoption</td>\n",
       "      <td>Dog</td>\n",
       "      <td>Labrador Retriever Mix</td>\n",
       "      <td>60.0</td>\n",
       "    </tr>\n",
       "    <tr>\n",
       "      <th>1</th>\n",
       "      <td>Transfer</td>\n",
       "      <td>Cat</td>\n",
       "      <td>Domestic Shorthair Mix</td>\n",
       "      <td>7.0</td>\n",
       "    </tr>\n",
       "    <tr>\n",
       "      <th>2</th>\n",
       "      <td>Transfer</td>\n",
       "      <td>Cat</td>\n",
       "      <td>Domestic Shorthair Mix</td>\n",
       "      <td>7.0</td>\n",
       "    </tr>\n",
       "    <tr>\n",
       "      <th>3</th>\n",
       "      <td>Transfer</td>\n",
       "      <td>Cat</td>\n",
       "      <td>Domestic Shorthair Mix</td>\n",
       "      <td>7.0</td>\n",
       "    </tr>\n",
       "    <tr>\n",
       "      <th>4</th>\n",
       "      <td>Return to Owner</td>\n",
       "      <td>Dog</td>\n",
       "      <td>Bulldog Mix</td>\n",
       "      <td>1460.0</td>\n",
       "    </tr>\n",
       "  </tbody>\n",
       "</table>\n",
       "</div>"
      ],
      "text/plain": [
       "      Outcome Type Animal Type                   Breed  Days upon Outcome\n",
       "0         Adoption         Dog  Labrador Retriever Mix               60.0\n",
       "1         Transfer         Cat  Domestic Shorthair Mix                7.0\n",
       "2         Transfer         Cat  Domestic Shorthair Mix                7.0\n",
       "3         Transfer         Cat  Domestic Shorthair Mix                7.0\n",
       "4  Return to Owner         Dog             Bulldog Mix             1460.0"
      ]
     },
     "execution_count": 69,
     "metadata": {},
     "output_type": "execute_result"
    }
   ],
   "source": [
    "# Reading the file that contains the details of all the pets and their outcomes in the austin shelter homes.\n",
    "\n",
    "animal_outcome = pd.read_csv(\"Austin_Animal_FY14_Outcomes.csv\", encoding='cp1252')\n",
    "animal_outcome = animal_outcome.reindex(columns = ['Animal ID', 'Name', 'Outcome Date', 'Outcome Time', 'Outcome Type',\n",
    "                                                  'Outcome Subtype', 'Animal Type', 'Sex upon Outcome', 'Age upon Outcome',\n",
    "                                                  'Breed', 'Color', 'Days upon Outcome'])\n",
    "animal_outcome = animal_outcome[['Outcome Type', 'Animal Type', 'Breed', 'Days upon Outcome']]\n",
    "animal_outcome.head()"
   ]
  },
  {
   "cell_type": "code",
   "execution_count": 70,
   "metadata": {},
   "outputs": [
    {
     "data": {
      "text/html": [
       "<div>\n",
       "<style>\n",
       "    .dataframe thead tr:only-child th {\n",
       "        text-align: right;\n",
       "    }\n",
       "\n",
       "    .dataframe thead th {\n",
       "        text-align: left;\n",
       "    }\n",
       "\n",
       "    .dataframe tbody tr th {\n",
       "        vertical-align: top;\n",
       "    }\n",
       "</style>\n",
       "<table border=\"1\" class=\"dataframe\">\n",
       "  <thead>\n",
       "    <tr style=\"text-align: right;\">\n",
       "      <th></th>\n",
       "      <th>Breed</th>\n",
       "      <th>Animal Type</th>\n",
       "    </tr>\n",
       "  </thead>\n",
       "  <tbody>\n",
       "    <tr>\n",
       "      <th>20</th>\n",
       "      <td>Domestic Shorthair Mix</td>\n",
       "      <td>5434</td>\n",
       "    </tr>\n",
       "    <tr>\n",
       "      <th>17</th>\n",
       "      <td>Domestic Medium Hair Mix</td>\n",
       "      <td>581</td>\n",
       "    </tr>\n",
       "    <tr>\n",
       "      <th>12</th>\n",
       "      <td>Domestic Longhair Mix</td>\n",
       "      <td>327</td>\n",
       "    </tr>\n",
       "    <tr>\n",
       "      <th>42</th>\n",
       "      <td>Siamese Mix</td>\n",
       "      <td>229</td>\n",
       "    </tr>\n",
       "    <tr>\n",
       "      <th>19</th>\n",
       "      <td>Domestic Shorthair</td>\n",
       "      <td>72</td>\n",
       "    </tr>\n",
       "  </tbody>\n",
       "</table>\n",
       "</div>"
      ],
      "text/plain": [
       "                       Breed  Animal Type\n",
       "20    Domestic Shorthair Mix         5434\n",
       "17  Domestic Medium Hair Mix          581\n",
       "12     Domestic Longhair Mix          327\n",
       "42               Siamese Mix          229\n",
       "19        Domestic Shorthair           72"
      ]
     },
     "execution_count": 70,
     "metadata": {},
     "output_type": "execute_result"
    }
   ],
   "source": [
    "# Creating the data frames with info regarding outcomes by breed\n",
    "\n",
    "dogs_outcome_breed = dogs_outcome.groupby('Breed', as_index = False)['Animal Type'].count()\n",
    "dogs_outcome_breed = dogs_outcome_breed.sort_values('Animal Type', ascending = False)\n",
    "dogs_outcome_breed = dogs_outcome_breed.head(5)\n",
    "dogs_outcome_breed\n",
    "\n",
    "cats_outcome_breed = cats_outcome.groupby('Breed', as_index = False)['Animal Type'].count()\n",
    "cats_outcome_breed = cats_outcome_breed.sort_values('Animal Type', ascending = False)\n",
    "cats_outcome_breed = cats_outcome_breed.head(5)\n",
    "cats_outcome_breed"
   ]
  },
  {
   "cell_type": "code",
   "execution_count": 71,
   "metadata": {},
   "outputs": [],
   "source": [
    "# Finding total number of dogs and cats\n",
    "\n",
    "dogs_outcome = animal_outcome[animal_outcome[\"Animal Type\"] == 'Dog']\n",
    "dogs_outcome = dogs_outcome.sort_values('Days upon Outcome')\n",
    "\n",
    "total_dogs = dogs_outcome['Animal Type'].count()\n",
    "\n",
    "\n",
    "cats_outcome = animal_outcome[animal_outcome[\"Animal Type\"] == 'Cat']\n",
    "cats_outcome = cats_outcome.sort_values('Days upon Outcome')\n",
    "\n",
    "total_cats = cats_outcome['Animal Type'].count()\n"
   ]
  },
  {
   "cell_type": "code",
   "execution_count": 72,
   "metadata": {
    "collapsed": true
   },
   "outputs": [],
   "source": [
    "#Finding the number of dogs/cats by each outcome type\n",
    "\n",
    "dogs_adopted = dogs_outcome.loc[dogs_outcome['Outcome Type']=='Adoption']\n",
    "dogs_euthanized = dogs_outcome.loc[dogs_outcome['Outcome Type']== 'Euthanasia']\n",
    "dogs_died = dogs_outcome.loc[dogs_outcome['Outcome Type']== 'Died']\n",
    "dogs_transfered = dogs_outcome.loc[dogs_outcome['Outcome Type']== 'Transfer']\n",
    "dogs_returned = dogs_outcome.loc[dogs_outcome['Outcome Type']== 'Return to Owner']\n",
    "\n",
    "cats_adopted = cats_outcome.loc[cats_outcome['Outcome Type']=='Adoption']\n",
    "cats_euthanized = cats_outcome.loc[cats_outcome['Outcome Type']== 'Euthanasia']\n",
    "cats_died = cats_outcome.loc[cats_outcome['Outcome Type']== 'Died']\n",
    "cats_transfered = cats_outcome.loc[cats_outcome['Outcome Type']== 'Transfer']\n",
    "cats_returned = cats_outcome.loc[cats_outcome['Outcome Type']== 'Return to Owner']"
   ]
  },
  {
   "cell_type": "code",
   "execution_count": 73,
   "metadata": {
    "collapsed": true
   },
   "outputs": [],
   "source": [
    "#Finding the outcomes with respect to age\n",
    "\n",
    "adopted_dogs_by_age = dogs_adopted.groupby('Days upon Outcome', as_index = False)['Animal Type'].count()\n",
    "euthanized_dogs_by_age = dogs_euthanized.groupby('Days upon Outcome', as_index = False)['Animal Type'].count()\n",
    "died_dogs_by_age = dogs_died.groupby('Days upon Outcome', as_index = False)['Animal Type'].count()\n",
    "transfered_dogs_by_age = dogs_transfered.groupby('Days upon Outcome', as_index = False)['Animal Type'].count()\n",
    "returned_dogs_by_age = dogs_returned.groupby('Days upon Outcome', as_index = False)['Animal Type'].count()\n",
    "\n",
    "adopted_cats_by_age = cats_adopted.groupby('Days upon Outcome', as_index = False)['Animal Type'].count()\n",
    "euthanized_cats_by_age = cats_euthanized.groupby('Days upon Outcome', as_index = False)['Animal Type'].count()\n",
    "died_cats_by_age = cats_died.groupby('Days upon Outcome', as_index = False)['Animal Type'].count()\n",
    "transfered_cats_by_age = cats_transfered.groupby('Days upon Outcome', as_index = False)['Animal Type'].count()\n",
    "returned_cats_by_age = cats_returned.groupby('Days upon Outcome', as_index = False)['Animal Type'].count()"
   ]
  },
  {
   "cell_type": "code",
   "execution_count": 74,
   "metadata": {
    "collapsed": true
   },
   "outputs": [],
   "source": [
    "# finding the number of dogs less than a month and greater than 11 years in age \n",
    "\n",
    "dogs_adopted_11year = adopted_dogs_by_age[adopted_dogs_by_age['Days upon Outcome'] > 4015 ]\n",
    "yd1_0 = dogs_adopted_11year['Animal Type'].sum()\n",
    "dogs_adopted_month = adopted_dogs_by_age[adopted_dogs_by_age['Days upon Outcome'] < 30]\n",
    "yd1_00 = dogs_adopted_month['Animal Type'].sum()\n",
    "\n",
    "dogs_euthanized_month = euthanized_dogs_by_age[euthanized_dogs_by_age['Days upon Outcome'] > 4015 ]\n",
    "yd2_0 = dogs_adopted_month['Animal Type'].sum()\n",
    "dogs_euthanized_month = euthanized_dogs_by_age[euthanized_dogs_by_age['Days upon Outcome'] < 30 ]\n",
    "yd2_00 = dogs_adopted_month['Animal Type'].sum()\n",
    "\n",
    "dogs_transfered_month = transfered_dogs_by_age[transfered_dogs_by_age['Days upon Outcome'] > 4015 ]\n",
    "yd3_0 = dogs_transfered_month['Animal Type'].sum()\n",
    "dogs_transfered_month = transfered_dogs_by_age[transfered_dogs_by_age['Days upon Outcome'] < 30 ]\n",
    "yd3_00 = dogs_transfered_month['Animal Type'].sum()\n",
    "\n",
    "dogs_died_month = died_dogs_by_age[died_dogs_by_age['Days upon Outcome'] > 4015 ]\n",
    "yd4_0 = dogs_died_month['Animal Type'].sum()\n",
    "dogs_died_month = died_dogs_by_age[died_dogs_by_age['Days upon Outcome'] < 30 ]\n",
    "yd4_00 = dogs_died_month['Animal Type'].sum()\n",
    "\n",
    "dogs_returned_month = returned_dogs_by_age[returned_dogs_by_age['Days upon Outcome'] > 4015]\n",
    "yd5_0 = dogs_returned_month['Animal Type'].sum()\n",
    "dogs_returned_month = returned_dogs_by_age[returned_dogs_by_age['Days upon Outcome'] < 30]\n",
    "yd5_00 = dogs_returned_month['Animal Type'].sum()\n"
   ]
  },
  {
   "cell_type": "code",
   "execution_count": 75,
   "metadata": {
    "collapsed": true
   },
   "outputs": [],
   "source": [
    "# Storing the values calculated above in variables\n",
    "\n",
    "a = yd1_0\n",
    "b = yd2_0\n",
    "c = yd3_0\n",
    "d = yd4_0\n",
    "e = yd5_0\n",
    "a0 = yd1_00\n",
    "b0 = yd2_00\n",
    "c0 = yd3_00\n",
    "d0 = yd4_00\n",
    "e0 = yd5_00"
   ]
  },
  {
   "cell_type": "code",
   "execution_count": 76,
   "metadata": {},
   "outputs": [],
   "source": [
    "# finding the number of dogs less than a month and greater than 11 years in age \n",
    "\n",
    "cats_adopted_11year = adopted_cats_by_age[adopted_cats_by_age['Days upon Outcome'] > 4015 ]\n",
    "yc1_0 = cats_adopted_11year['Animal Type'].sum()\n",
    "cats_adopted_month = adopted_cats_by_age[adopted_cats_by_age['Days upon Outcome'] < 30]\n",
    "yc1_00 = cats_adopted_month['Animal Type'].sum()\n",
    "\n",
    "cats_euthanized_month = euthanized_cats_by_age[euthanized_cats_by_age['Days upon Outcome'] > 4015 ]\n",
    "yc2_0 = cats_adopted_month['Animal Type'].sum()\n",
    "cats_euthanized_month = euthanized_cats_by_age[euthanized_cats_by_age['Days upon Outcome'] < 30 ]\n",
    "yc2_00 = dogs_adopted_month['Animal Type'].sum()\n",
    "\n",
    "cats_transfered_month = transfered_cats_by_age[transfered_cats_by_age['Days upon Outcome'] > 4015 ]\n",
    "yc3_0 = cats_transfered_month['Animal Type'].sum()\n",
    "cats_transfered_month = transfered_cats_by_age[transfered_cats_by_age['Days upon Outcome'] < 30 ]\n",
    "yc3_00 = cats_transfered_month['Animal Type'].sum()\n",
    "\n",
    "cats_died_month = died_cats_by_age[died_cats_by_age['Days upon Outcome'] > 4015 ]\n",
    "yc4_0 = cats_died_month['Animal Type'].sum()\n",
    "cats_died_month = died_cats_by_age[died_cats_by_age['Days upon Outcome'] < 30 ]\n",
    "yc4_00 = cats_died_month['Animal Type'].sum()\n",
    "\n",
    "cats_returned_month = returned_cats_by_age[returned_cats_by_age['Days upon Outcome'] > 4015]\n",
    "yc5_0 = cats_returned_month['Animal Type'].sum()\n",
    "cats_returned_month = returned_cats_by_age[returned_cats_by_age['Days upon Outcome'] < 30]\n",
    "yc5_00 = cats_returned_month['Animal Type'].sum()"
   ]
  },
  {
   "cell_type": "code",
   "execution_count": 77,
   "metadata": {
    "collapsed": true
   },
   "outputs": [],
   "source": [
    "# Storing the values calculated above in variables\n",
    "\n",
    "p = yd1_0\n",
    "q = yd2_0\n",
    "r = yd3_0\n",
    "s = yd4_0\n",
    "t = yd5_0\n",
    "p0 = yd1_00\n",
    "q0 = yd2_00\n",
    "r0 = yd3_00\n",
    "s0 = yd4_00\n",
    "t0 = yd5_00"
   ]
  },
  {
   "cell_type": "code",
   "execution_count": 78,
   "metadata": {
    "collapsed": true
   },
   "outputs": [],
   "source": [
    "# Creating Data frames for animal between ages 1 month and 1 years\n",
    "\n",
    "adopted_dogs_by_age = adopted_dogs_by_age[adopted_dogs_by_age['Days upon Outcome']<4380]\n",
    "euthanized_dogs_by_age = euthanized_dogs_by_age[euthanized_dogs_by_age['Days upon Outcome']<4380]\n",
    "euthanized_dogs_by_age = euthanized_dogs_by_age[euthanized_dogs_by_age['Days upon Outcome']> 30]\n",
    "died_dogs_by_age = died_dogs_by_age[died_dogs_by_age['Days upon Outcome']<4380]\n",
    "died_dogs_by_age = died_dogs_by_age[died_dogs_by_age['Days upon Outcome']>30]\n",
    "transfered_dogs_by_age = transfered_dogs_by_age[transfered_dogs_by_age['Days upon Outcome']<4380]\n",
    "transfered_dogs_by_age = transfered_dogs_by_age[transfered_dogs_by_age['Days upon Outcome']>30]\n",
    "returned_dogs_by_age = returned_dogs_by_age[returned_dogs_by_age['Days upon Outcome']<4380]\n",
    "returned_dogs_by_age = returned_dogs_by_age[returned_dogs_by_age['Days upon Outcome']>30]\n",
    "\n",
    "adopted_dogs_by_age.set_index(['Days upon Outcome'], inplace = True)\n",
    "euthanized_dogs_by_age.set_index(['Days upon Outcome'], inplace = True)\n",
    "died_dogs_by_age.set_index(['Days upon Outcome'], inplace = True)\n",
    "transfered_dogs_by_age.set_index(['Days upon Outcome'], inplace = True)\n",
    "returned_dogs_by_age.set_index(['Days upon Outcome'], inplace = True)"
   ]
  },
  {
   "cell_type": "code",
   "execution_count": 79,
   "metadata": {},
   "outputs": [],
   "source": [
    "# Creating Data frames for animal between ages 1 month and 1 years\n",
    "\n",
    "adopted_cats_by_age = adopted_cats_by_age[adopted_cats_by_age['Days upon Outcome']<4380]\n",
    "euthanized_cats_by_age = euthanized_cats_by_age[euthanized_cats_by_age['Days upon Outcome']<4380]\n",
    "euthanized_cats_by_age = euthanized_cats_by_age[euthanized_cats_by_age['Days upon Outcome']> 30]\n",
    "died_cats_by_age = died_cats_by_age[died_cats_by_age['Days upon Outcome']<4380]\n",
    "died_cats_by_age = died_cats_by_age[died_cats_by_age['Days upon Outcome']>30]\n",
    "transfered_cats_by_age = transfered_cats_by_age[transfered_cats_by_age['Days upon Outcome']<4380]\n",
    "transfered_cats_by_age = transfered_cats_by_age[transfered_cats_by_age['Days upon Outcome']>30]\n",
    "returned_cats_by_age = returned_cats_by_age[returned_cats_by_age['Days upon Outcome']<4380]\n",
    "returned_cats_by_age = returned_cats_by_age[returned_cats_by_age['Days upon Outcome']>30]\n",
    "\n",
    "adopted_cats_by_age.set_index(['Days upon Outcome'], inplace = True)\n",
    "euthanized_cats_by_age.set_index(['Days upon Outcome'], inplace = True)\n",
    "died_cats_by_age.set_index(['Days upon Outcome'], inplace = True)\n",
    "transfered_cats_by_age.set_index(['Days upon Outcome'], inplace = True)\n",
    "returned_cats_by_age.set_index(['Days upon Outcome'], inplace = True)"
   ]
  },
  {
   "cell_type": "code",
   "execution_count": 80,
   "metadata": {
    "collapsed": true
   },
   "outputs": [],
   "source": [
    "adopted_dogs_by_age.columns = ['Adopted']\n",
    "transfered_dogs_by_age.columns = ['Transfered']\n",
    "returned_dogs_by_age.columns = ['Returned']\n",
    "euthanized_dogs_by_age.columns = ['Euthanasia']\n",
    "died_dogs_by_age.columns = ['Died']"
   ]
  },
  {
   "cell_type": "code",
   "execution_count": 81,
   "metadata": {
    "collapsed": true
   },
   "outputs": [],
   "source": [
    "adopted_cats_by_age.columns = ['Adopted']\n",
    "transfered_cats_by_age.columns = ['Transfered']\n",
    "returned_cats_by_age.columns = ['Returned']\n",
    "euthanized_cats_by_age.columns = ['Euthanasia']\n",
    "died_cats_by_age.columns = ['Died']"
   ]
  },
  {
   "cell_type": "code",
   "execution_count": 82,
   "metadata": {},
   "outputs": [],
   "source": [
    "# creating final df for outcome of dogs and their outcomes with respect to age\n",
    "\n",
    "result_dogs = pd.concat([adopted_dogs_by_age, euthanized_dogs_by_age, died_dogs_by_age, transfered_dogs_by_age,returned_dogs_by_age],\n",
    "                  axis = 1, join = 'outer')\n",
    "result_dogs.loc[-1] =[a,b,c,d,e]\n",
    "data = []\n",
    "data.insert(0, {'Adopted': a0, 'Euthanasia':b0, 'Transfered': c0, 'Died': d0, 'Returned': e0})\n",
    "result_dogs = pd.concat([pd.DataFrame(data), result_dogs])\n",
    "result_dogs = result_dogs.replace(np.nan , 0)\n",
    "result_dogs = result_dogs.drop(result_dogs.index[2])\n",
    "result_dogs['sum'] = result_dogs.sum(axis=1)\n",
    "\n",
    "result_dogs = result_dogs.loc[:,'Adopted': 'Transfered'].div(result_dogs['sum'], axis = 0)\n",
    "result_dogs = result_dogs*100"
   ]
  },
  {
   "cell_type": "code",
   "execution_count": 83,
   "metadata": {},
   "outputs": [],
   "source": [
    "# creating final df for outcome of cats and their outcomes with respect to age\n",
    "\n",
    "result_cats = pd.concat([adopted_cats_by_age, euthanized_cats_by_age, died_cats_by_age, transfered_cats_by_age,returned_cats_by_age],\n",
    "                  axis = 1, join = 'outer')\n",
    "result_cats.loc[-1] =[p,q,r,s,t]\n",
    "data_cats = []\n",
    "data_cats.insert(0, {'Adopted': p0, 'Euthanasia':q0, 'Transfered': r0, 'Died': s0, 'Returned': t0})\n",
    "result_cats = pd.concat([pd.DataFrame(data_cats), result_cats])\n",
    "result_cats = result_cats.replace(np.nan , 0)\n",
    "result_cats = result_cats.drop(result_dogs.index[2])\n",
    "result_cats['sum'] = result_cats.sum(axis=1)\n",
    "\n",
    "result_cats = result_cats.loc[:,'Adopted': 'Transfered'].div(result_cats['sum'], axis = 0)\n",
    "result_cats = result_cats*100"
   ]
  },
  {
   "cell_type": "code",
   "execution_count": 84,
   "metadata": {
    "collapsed": true
   },
   "outputs": [],
   "source": [
    "x = [0, 30, 60, 90, 120, 150, 180, 210, 240, 270, 300, 330, 365, 730, 1095, 1460, 1825, 2190, 2555, 2920, 3285, 3650, 4015, -1]\n",
    "labels = ['< month','1 month', '2 month', '3 month', '4 month', '5 month','6 month', '7 month', '8month', '9month', '10 month',\n",
    "                       '11 month', '1 year', '2 year', '3 year', '4 year', '5 year', '6 year', '7 year', '8 year',\n",
    "                       '9 year', '10 year', '11year', '> 11 year']"
   ]
  },
  {
   "cell_type": "code",
   "execution_count": 85,
   "metadata": {},
   "outputs": [
    {
     "data": {
      "image/png": "[encoded data removed]",
      "text/plain": [
       "<matplotlib.figure.Figure at 0x116aa4940>"
      ]
     },
     "metadata": {},
     "output_type": "display_data"
    }
   ],
   "source": [
    "# plot of relative outcome type vs age of animal\n",
    "\n",
    "ind = np.arange(len(x))\n",
    "width = 0.5\n",
    "p1 = plt.bar(ind, result_dogs['Adopted'], width, color = 'steelblue', label = \"Adopted\")\n",
    "p2 = plt.bar(ind, result_dogs['Euthanasia'], width, color = 'orange', label = \"Euthanasia\", \n",
    "             bottom = result_dogs['Adopted'])\n",
    "p3 = plt.bar(ind, result_dogs['Transfered'], width, color = 'red', label = \"Transfered\", \n",
    "             bottom = result_dogs['Adopted']+result_dogs['Euthanasia'])\n",
    "p4 = plt.bar(ind, result_dogs['Died'], width, color = 'limegreen', label = \"Died\", \n",
    "             bottom = result_dogs['Adopted']+result_dogs['Euthanasia']+result_dogs['Transfered'])\n",
    "p5 = plt.bar(ind, result_dogs['Returned'], width, color = 'mediumpurple', label = \"Returned\",\n",
    "             bottom=result_dogs['Adopted']+result_dogs['Euthanasia']+result_dogs['Transfered']+result_dogs['Died'])\n",
    "plt.xticks(ind, labels, rotation = 'vertical')\n",
    "plt.ylabel(\"Relative Count by Outcome\")\n",
    "plt.legend(loc=\"upper right\")\n",
    "plt.title(\"Outcome Type by Age Upon Outcome - Dogs\")\n",
    "plt.show()"
   ]
  },
  {
   "cell_type": "code",
   "execution_count": 86,
   "metadata": {},
   "outputs": [
    {
     "data": {
      "image/png": "[encoded data removed]",
      "text/plain": [
       "<matplotlib.figure.Figure at 0x116a99828>"
      ]
     },
     "metadata": {},
     "output_type": "display_data"
    }
   ],
   "source": [
    "ind = np.arange(len(x))\n",
    "width = 0.5\n",
    "p1 = plt.bar(ind, result_cats['Adopted'], width, color = 'steelblue', label = \"Adopted\")\n",
    "p2 = plt.bar(ind, result_cats['Euthanasia'], width, color = 'orange', label = \"Euthanasia\", \n",
    "             bottom = result_cats['Adopted'])\n",
    "p3 = plt.bar(ind, result_cats['Transfered'], width, color = 'red', label = \"Transfered\", \n",
    "             bottom = result_cats['Adopted']+result_cats['Euthanasia'])\n",
    "p4 = plt.bar(ind, result_cats['Died'], width, color = 'limegreen', label = \"Died\", \n",
    "             bottom = result_cats['Adopted']+result_cats['Euthanasia']+result_cats['Transfered'])\n",
    "p5 = plt.bar(ind, result_cats['Returned'], width, color = 'mediumpurple', label = \"Returned\",\n",
    "             bottom=result_cats['Adopted']+result_cats['Euthanasia']+result_cats['Transfered']+result_cats['Died'])\n",
    "plt.xticks(ind, labels, rotation = 'vertical')\n",
    "plt.ylabel(\"Relative Count by Outcome\")\n",
    "plt.legend(loc=\"upper right\")\n",
    "plt.title(\"Outcome Type by Age Upon Outcome - Cats\")\n",
    "plt.show()"
   ]
  },
  {
   "cell_type": "code",
   "execution_count": 87,
   "metadata": {
    "collapsed": true
   },
   "outputs": [],
   "source": [
    "#analysis of popular breeds by outcome\n",
    "#taking five popular breed and studying their outcomes\n",
    "\n",
    "adopted_pitbull = dogs_adopted.loc[dogs_adopted['Breed'] == 'Pit Bull Mix']['Animal Type'].count()\n",
    "euthanized_pitbull = dogs_euthanized.loc[dogs_euthanized['Breed'] == 'Pit Bull Mix']['Animal Type'].count()\n",
    "transfered_pitbull = dogs_transfered.loc[dogs_transfered['Breed'] == 'Pit Bull Mix']['Animal Type'].count()\n",
    "died_pitbull = dogs_died.loc[dogs_died['Breed'] == 'Pit Bull Mix']['Animal Type'].count()\n",
    "returned_pitbull = dogs_returned.loc[dogs_returned['Breed'] == 'Pit Bull Mix']['Animal Type'].count()\n",
    "\n",
    "adopted_Chihuahua = dogs_adopted.loc[dogs_adopted['Breed'] == 'Chihuahua Shorthair Mix']['Animal Type'].count()\n",
    "euthanized_Chihuahua = dogs_euthanized.loc[dogs_euthanized['Breed'] == 'Chihuahua Shorthair Mix']['Animal Type'].count()\n",
    "transfered_Chihuahua = dogs_transfered.loc[dogs_transfered['Breed'] == 'Chihuahua Shorthair Mix']['Animal Type'].count()\n",
    "died_Chihuahua = dogs_died.loc[dogs_died['Breed'] == 'Chihuahua Shorthair Mix']['Animal Type'].count()\n",
    "returned_Chihuahua = dogs_returned.loc[dogs_returned['Breed'] == 'Chihuahua Shorthair Mix']['Animal Type'].count()\n",
    "\n",
    "adopted_Labrador = dogs_adopted.loc[dogs_adopted['Breed'] == 'Labrador Retriever Mix']['Animal Type'].count()\n",
    "euthanized_Labrador = dogs_euthanized.loc[dogs_euthanized['Breed'] == 'Labrador Retriever Mix']['Animal Type'].count()\n",
    "transfered_Labrador = dogs_transfered.loc[dogs_transfered['Breed'] == 'Labrador Retriever Mix']['Animal Type'].count()\n",
    "died_Labrador = dogs_died.loc[dogs_died['Breed'] == 'Labrador Retriever Mix']['Animal Type'].count()\n",
    "returned_Labrador = dogs_returned.loc[dogs_returned['Breed'] == 'Labrador Retriever Mix']['Animal Type'].count()\n",
    "\n",
    "adopted_GS = dogs_adopted.loc[dogs_adopted['Breed'] == 'German Shepherd Mix']['Animal Type'].count()\n",
    "euthanized_GS = dogs_euthanized.loc[dogs_euthanized['Breed'] == 'German Shepherd Mix']['Animal Type'].count()\n",
    "transfered_GS = dogs_transfered.loc[dogs_transfered['Breed'] == 'German Shepherd Mix']['Animal Type'].count()\n",
    "died_GS = dogs_died.loc[dogs_died['Breed'] == 'German Shepherd Mix']['Animal Type'].count()\n",
    "returned_GS = dogs_returned.loc[dogs_returned['Breed'] == 'German Shepherd Mix']['Animal Type'].count()\n",
    "\n",
    "adopted_AD = dogs_adopted.loc[dogs_adopted['Breed'] == 'Australian Cattle Dog Mix']['Animal Type'].count()\n",
    "euthanized_AD = dogs_euthanized.loc[dogs_euthanized['Breed'] == 'Australian Cattle Dog Mix']['Animal Type'].count()\n",
    "transfered_AD = dogs_transfered.loc[dogs_transfered['Breed'] == 'Australian Cattle Dog Mix']['Animal Type'].count()\n",
    "died_AD = dogs_died.loc[dogs_died['Breed'] == 'Australian Cattle Dog Mix']['Animal Type'].count()\n",
    "returned_AD = dogs_returned.loc[dogs_returned['Breed'] == 'Australian Cattle Dog Mix']['Animal Type'].count()"
   ]
  },
  {
   "cell_type": "code",
   "execution_count": 88,
   "metadata": {
    "collapsed": true
   },
   "outputs": [],
   "source": [
    "adopted = (adopted_pitbull, adopted_Chihuahua, adopted_Labrador, adopted_GS, adopted_AD)\n",
    "euthanized = (euthanized_pitbull, euthanized_Chihuahua, euthanized_Labrador, euthanized_GS, euthanized_AD)\n",
    "transfered = (transfered_pitbull, transfered_Chihuahua, transfered_Labrador, transfered_GS, transfered_AD)\n",
    "died = (died_pitbull, died_Chihuahua, died_Labrador, died_GS, died_AD)\n",
    "returned = (returned_pitbull, returned_Chihuahua, returned_Labrador, returned_GS, returned_AD)"
   ]
  },
  {
   "cell_type": "code",
   "execution_count": 89,
   "metadata": {
    "collapsed": true
   },
   "outputs": [],
   "source": [
    "df = pd.DataFrame({'adopted':adopted, 'euthanized':euthanized,\n",
    "                   'transfered':transfered, 'died':died, 'returned':returned})\n",
    "for i in range(0,5):\n",
    "    df.iloc[i] = (df.iloc[i]/df.iloc[i].sum())*100"
   ]
  },
  {
   "cell_type": "code",
   "execution_count": 90,
   "metadata": {},
   "outputs": [
    {
     "data": {
      "image/png": "[encoded data removed]",
      "text/plain": [
       "<matplotlib.figure.Figure at 0x116831160>"
      ]
     },
     "metadata": {},
     "output_type": "display_data"
    }
   ],
   "source": [
    "N = 5\n",
    "ind = np.arange(N)\n",
    "labels = ('Pitbull', 'Chihuahua', 'Labrador', 'German Shepherd', 'Australian Dog')\n",
    "df.plot.bar(stacked = True)\n",
    "plt.xticks(ind, labels)\n",
    "plt.legend(loc=\"upper right\")\n",
    "plt.show()"
   ]
  },
  {
   "cell_type": "code",
   "execution_count": 95,
   "metadata": {},
   "outputs": [
    {
     "data": {
      "text/html": [
       "<div>\n",
       "<style>\n",
       "    .dataframe thead tr:only-child th {\n",
       "        text-align: right;\n",
       "    }\n",
       "\n",
       "    .dataframe thead th {\n",
       "        text-align: left;\n",
       "    }\n",
       "\n",
       "    .dataframe tbody tr th {\n",
       "        vertical-align: top;\n",
       "    }\n",
       "</style>\n",
       "<table border=\"1\" class=\"dataframe\">\n",
       "  <thead>\n",
       "    <tr style=\"text-align: right;\">\n",
       "      <th></th>\n",
       "      <th>Breed</th>\n",
       "      <th>Animal Type</th>\n",
       "    </tr>\n",
       "  </thead>\n",
       "  <tbody>\n",
       "    <tr>\n",
       "      <th>236</th>\n",
       "      <td>Chihuahua Shorthair Mix</td>\n",
       "      <td>517</td>\n",
       "    </tr>\n",
       "    <tr>\n",
       "      <th>547</th>\n",
       "      <td>Pit Bull Mix</td>\n",
       "      <td>377</td>\n",
       "    </tr>\n",
       "    <tr>\n",
       "      <th>433</th>\n",
       "      <td>Labrador Retriever Mix</td>\n",
       "      <td>373</td>\n",
       "    </tr>\n",
       "    <tr>\n",
       "      <th>357</th>\n",
       "      <td>German Shepherd Mix</td>\n",
       "      <td>176</td>\n",
       "    </tr>\n",
       "    <tr>\n",
       "      <th>34</th>\n",
       "      <td>Australian Cattle Dog Mix</td>\n",
       "      <td>129</td>\n",
       "    </tr>\n",
       "    <tr>\n",
       "      <th>293</th>\n",
       "      <td>Dachshund Mix</td>\n",
       "      <td>107</td>\n",
       "    </tr>\n",
       "    <tr>\n",
       "      <th>131</th>\n",
       "      <td>Border Collie Mix</td>\n",
       "      <td>77</td>\n",
       "    </tr>\n",
       "    <tr>\n",
       "      <th>66</th>\n",
       "      <td>Australian Shepherd Mix</td>\n",
       "      <td>61</td>\n",
       "    </tr>\n",
       "    <tr>\n",
       "      <th>503</th>\n",
       "      <td>Miniature Poodle Mix</td>\n",
       "      <td>60</td>\n",
       "    </tr>\n",
       "    <tr>\n",
       "      <th>416</th>\n",
       "      <td>Jack Russell Terrier Mix</td>\n",
       "      <td>58</td>\n",
       "    </tr>\n",
       "    <tr>\n",
       "      <th>246</th>\n",
       "      <td>Chihuahua Shorthair/Dachshund</td>\n",
       "      <td>51</td>\n",
       "    </tr>\n",
       "    <tr>\n",
       "      <th>57</th>\n",
       "      <td>Australian Kelpie Mix</td>\n",
       "      <td>49</td>\n",
       "    </tr>\n",
       "    <tr>\n",
       "      <th>696</th>\n",
       "      <td>Yorkshire Terrier Mix</td>\n",
       "      <td>47</td>\n",
       "    </tr>\n",
       "    <tr>\n",
       "      <th>215</th>\n",
       "      <td>Catahoula Mix</td>\n",
       "      <td>45</td>\n",
       "    </tr>\n",
       "    <tr>\n",
       "      <th>161</th>\n",
       "      <td>Boxer Mix</td>\n",
       "      <td>45</td>\n",
       "    </tr>\n",
       "    <tr>\n",
       "      <th>191</th>\n",
       "      <td>Cairn Terrier Mix</td>\n",
       "      <td>38</td>\n",
       "    </tr>\n",
       "    <tr>\n",
       "      <th>598</th>\n",
       "      <td>Rat Terrier Mix</td>\n",
       "      <td>37</td>\n",
       "    </tr>\n",
       "    <tr>\n",
       "      <th>229</th>\n",
       "      <td>Chihuahua Longhair Mix</td>\n",
       "      <td>35</td>\n",
       "    </tr>\n",
       "    <tr>\n",
       "      <th>512</th>\n",
       "      <td>Miniature Schnauzer Mix</td>\n",
       "      <td>35</td>\n",
       "    </tr>\n",
       "    <tr>\n",
       "      <th>13</th>\n",
       "      <td>American Bulldog Mix</td>\n",
       "      <td>34</td>\n",
       "    </tr>\n",
       "  </tbody>\n",
       "</table>\n",
       "</div>"
      ],
      "text/plain": [
       "                             Breed  Animal Type\n",
       "236        Chihuahua Shorthair Mix          517\n",
       "547                   Pit Bull Mix          377\n",
       "433         Labrador Retriever Mix          373\n",
       "357            German Shepherd Mix          176\n",
       "34       Australian Cattle Dog Mix          129\n",
       "293                  Dachshund Mix          107\n",
       "131              Border Collie Mix           77\n",
       "66         Australian Shepherd Mix           61\n",
       "503           Miniature Poodle Mix           60\n",
       "416       Jack Russell Terrier Mix           58\n",
       "246  Chihuahua Shorthair/Dachshund           51\n",
       "57           Australian Kelpie Mix           49\n",
       "696          Yorkshire Terrier Mix           47\n",
       "215                  Catahoula Mix           45\n",
       "161                      Boxer Mix           45\n",
       "191              Cairn Terrier Mix           38\n",
       "598                Rat Terrier Mix           37\n",
       "229         Chihuahua Longhair Mix           35\n",
       "512        Miniature Schnauzer Mix           35\n",
       "13            American Bulldog Mix           34"
      ]
     },
     "execution_count": 95,
     "metadata": {},
     "output_type": "execute_result"
    }
   ],
   "source": [
    "adopted_breed = dogs_adopted.groupby('Breed', as_index = False)['Animal Type'].count()\n",
    "adopted_breed = adopted_breed.sort_values('Animal Type', ascending = False)\n",
    "adopted_breed = adopted_breed.head(20)\n",
    "total_adopted = adopted_breed['Animal Type'].sum()\n",
    "adopted_breed"
   ]
  },
  {
   "cell_type": "code",
   "execution_count": 96,
   "metadata": {
    "collapsed": true
   },
   "outputs": [],
   "source": [
    "n = list(adopted_breed['Animal Type'])\n",
    "d_names = list(adopted_breed['Breed'])\n",
    "d_ratios=[]\n",
    "for i in range(0, len(n)):\n",
    "    d_ratios.append(n[i]/total_adopted)"
   ]
  },
  {
   "cell_type": "code",
   "execution_count": 111,
   "metadata": {},
   "outputs": [
    {
     "data": {
      "image/png": "[encoded data removed]",
      "text/plain": [
       "<matplotlib.figure.Figure at 0x1169deb38>"
      ]
     },
     "metadata": {},
     "output_type": "display_data"
    }
   ],
   "source": [
    "ind = np.arange(20)\n",
    "d_plot = plt.plot(d_ratios,ind, 'bo')\n",
    "plt.title('Adoption Rate By Breed - Dogs')\n",
    "plt.yticks(ind, d_names)\n",
    "plt.xlabel('Fraction')\n",
    "plt.ylabel('Popular Breed')\n",
    "plt.show()"
   ]
  },
  {
   "cell_type": "code",
   "execution_count": 91,
   "metadata": {
    "collapsed": true
   },
   "outputs": [],
   "source": [
    "adopted_DSM = cats_adopted.loc[cats_adopted['Breed'] == 'Domestic Shorthair Mix']['Animal Type'].count()\n",
    "euthanized_DSM = cats_euthanized.loc[cats_euthanized['Breed'] == 'Domestic Shorthair Mix']['Animal Type'].count()\n",
    "transfered_DSM = cats_transfered.loc[cats_transfered['Breed'] == 'Domestic Shorthair Mix']['Animal Type'].count()\n",
    "died_DSM = cats_died.loc[cats_died['Breed'] == 'Domestic Shorthair Mix']['Animal Type'].count()\n",
    "returned_DSM = cats_returned.loc[cats_returned['Breed'] == 'Domestic Shorthair Mix']['Animal Type'].count()\n",
    "\n",
    "adopted_DM = cats_adopted.loc[cats_adopted['Breed'] == 'Domestic Medium Hair Mix']['Animal Type'].count()\n",
    "euthanized_DM = cats_euthanized.loc[cats_euthanized['Breed'] == 'Domestic Medium Hair Mix']['Animal Type'].count()\n",
    "transfered_DM = cats_transfered.loc[cats_transfered['Breed'] == 'Domestic Medium Hair Mix']['Animal Type'].count()\n",
    "died_DM = cats_died.loc[cats_died['Breed'] == 'Domestic Medium Hair Mix']['Animal Type'].count()\n",
    "returned_DM = cats_returned.loc[cats_returned['Breed'] == 'Domestic Medium Hair Mix']['Animal Type'].count()\n",
    "\n",
    "adopted_DLM = cats_adopted.loc[cats_adopted['Breed'] == 'Domestic longhair Mix']['Animal Type'].count()\n",
    "euthanized_DLM = cats_euthanized.loc[cats_euthanized['Breed'] == 'Domestic longhair Mix']['Animal Type'].count()\n",
    "transfered_DLM = cats_transfered.loc[cats_transfered['Breed'] == 'Domestic longhair Mix']['Animal Type'].count()\n",
    "died_DLM = cats_died.loc[cats_died['Breed'] == 'Domestic longhair Mix']['Animal Type'].count()\n",
    "returned_DLM = cats_returned.loc[cats_returned['Breed'] == 'Domestic longhair Mix']['Animal Type'].count()\n",
    "\n",
    "adopted_SM = cats_adopted.loc[cats_adopted['Breed'] == 'Siamese Mix']['Animal Type'].count()\n",
    "euthanized_SM = cats_euthanized.loc[cats_euthanized['Breed'] == 'Siamese Mix']['Animal Type'].count()\n",
    "transfered_SM = cats_transfered.loc[cats_transfered['Breed'] == 'Siamese Mix']['Animal Type'].count()\n",
    "died_SM = cats_died.loc[cats_died['Breed'] == 'Siamese Mix']['Animal Type'].count()\n",
    "returned_SM = cats_returned.loc[cats_returned['Breed'] == 'Siamese Mix']['Animal Type'].count()\n",
    "\n",
    "adopted_SH = cats_adopted.loc[cats_adopted['Breed'] == 'Domestic Shorthair']['Animal Type'].count()\n",
    "euthanized_SH = cats_euthanized.loc[cats_euthanized['Breed'] == 'Domestic Shorthair']['Animal Type'].count()\n",
    "transfered_SH = cats_transfered.loc[cats_transfered['Breed'] == 'Domestic Shorthair']['Animal Type'].count()\n",
    "died_SH = cats_died.loc[cats_died['Breed'] == 'Domestic Shorthair']['Animal Type'].count()\n",
    "returned_SH = cats_returned.loc[cats_returned['Breed'] == 'Domestic Shorthair']['Animal Type'].count()"
   ]
  },
  {
   "cell_type": "code",
   "execution_count": 92,
   "metadata": {
    "collapsed": true
   },
   "outputs": [],
   "source": [
    "c_adopted = (adopted_DSM, adopted_DM, adopted_DLM, adopted_SM, adopted_SH)\n",
    "c_euthanized = (euthanized_DSM, euthanized_DM, euthanized_DLM, euthanized_SM, euthanized_SH)\n",
    "c_transfered = (transfered_DSM, transfered_DM, transfered_DLM, transfered_SM, transfered_SH)\n",
    "c_died = (died_DSM, died_DM, died_DLM, died_SM, died_SH)\n",
    "c_returned = (returned_DSM, returned_DM, returned_DLM, returned_SM, returned_SH)"
   ]
  },
  {
   "cell_type": "code",
   "execution_count": 93,
   "metadata": {
    "collapsed": true
   },
   "outputs": [],
   "source": [
    "c_df = pd.DataFrame({'adopted':c_adopted, 'euthanized':c_euthanized,\n",
    "                   'transfered':c_transfered, 'died':c_died, 'returned':c_returned})\n",
    "for i in range(0,5):\n",
    "    df.iloc[i] = (df.iloc[i]/df.iloc[i].sum())*100"
   ]
  },
  {
   "cell_type": "code",
   "execution_count": 94,
   "metadata": {},
   "outputs": [
    {
     "data": {
      "image/png": "[encoded data removed]",
      "text/plain": [
       "<matplotlib.figure.Figure at 0x11662a4e0>"
      ]
     },
     "metadata": {},
     "output_type": "display_data"
    }
   ],
   "source": [
    "N = 5\n",
    "ind = np.arange(N)\n",
    "labels = ('Domestic Shorthair Mix', 'Domestic Medium Hair Mix', 'Domestic Longhair Mix', 'Siamese Mix', 'Domestic Short Hair')\n",
    "df.plot.bar(stacked = True)\n",
    "plt.xticks(ind, labels)\n",
    "plt.legend(loc=\"upper right\")\n",
    "plt.show()"
   ]
  },
  {
   "cell_type": "code",
   "execution_count": 104,
   "metadata": {},
   "outputs": [
    {
     "data": {
      "text/html": [
       "<div>\n",
       "<style>\n",
       "    .dataframe thead tr:only-child th {\n",
       "        text-align: right;\n",
       "    }\n",
       "\n",
       "    .dataframe thead th {\n",
       "        text-align: left;\n",
       "    }\n",
       "\n",
       "    .dataframe tbody tr th {\n",
       "        vertical-align: top;\n",
       "    }\n",
       "</style>\n",
       "<table border=\"1\" class=\"dataframe\">\n",
       "  <thead>\n",
       "    <tr style=\"text-align: right;\">\n",
       "      <th></th>\n",
       "      <th>Breed</th>\n",
       "      <th>Animal Type</th>\n",
       "    </tr>\n",
       "  </thead>\n",
       "  <tbody>\n",
       "    <tr>\n",
       "      <th>14</th>\n",
       "      <td>Domestic Shorthair Mix</td>\n",
       "      <td>1995</td>\n",
       "    </tr>\n",
       "    <tr>\n",
       "      <th>12</th>\n",
       "      <td>Domestic Medium Hair Mix</td>\n",
       "      <td>236</td>\n",
       "    </tr>\n",
       "    <tr>\n",
       "      <th>9</th>\n",
       "      <td>Domestic Longhair Mix</td>\n",
       "      <td>130</td>\n",
       "    </tr>\n",
       "    <tr>\n",
       "      <th>31</th>\n",
       "      <td>Siamese Mix</td>\n",
       "      <td>108</td>\n",
       "    </tr>\n",
       "    <tr>\n",
       "      <th>34</th>\n",
       "      <td>Snowshoe Mix</td>\n",
       "      <td>29</td>\n",
       "    </tr>\n",
       "    <tr>\n",
       "      <th>13</th>\n",
       "      <td>Domestic Shorthair</td>\n",
       "      <td>25</td>\n",
       "    </tr>\n",
       "    <tr>\n",
       "      <th>20</th>\n",
       "      <td>Maine Coon Mix</td>\n",
       "      <td>24</td>\n",
       "    </tr>\n",
       "    <tr>\n",
       "      <th>21</th>\n",
       "      <td>Manx Mix</td>\n",
       "      <td>21</td>\n",
       "    </tr>\n",
       "    <tr>\n",
       "      <th>29</th>\n",
       "      <td>Russian Blue Mix</td>\n",
       "      <td>14</td>\n",
       "    </tr>\n",
       "    <tr>\n",
       "      <th>30</th>\n",
       "      <td>Siamese</td>\n",
       "      <td>12</td>\n",
       "    </tr>\n",
       "    <tr>\n",
       "      <th>8</th>\n",
       "      <td>Domestic Longhair</td>\n",
       "      <td>9</td>\n",
       "    </tr>\n",
       "    <tr>\n",
       "      <th>11</th>\n",
       "      <td>Domestic Medium Hair</td>\n",
       "      <td>9</td>\n",
       "    </tr>\n",
       "    <tr>\n",
       "      <th>1</th>\n",
       "      <td>Angora Mix</td>\n",
       "      <td>6</td>\n",
       "    </tr>\n",
       "    <tr>\n",
       "      <th>32</th>\n",
       "      <td>Siamese/Domestic Shorthair</td>\n",
       "      <td>6</td>\n",
       "    </tr>\n",
       "    <tr>\n",
       "      <th>10</th>\n",
       "      <td>Domestic Longhair/Persian</td>\n",
       "      <td>3</td>\n",
       "    </tr>\n",
       "    <tr>\n",
       "      <th>27</th>\n",
       "      <td>Ragdoll Mix</td>\n",
       "      <td>3</td>\n",
       "    </tr>\n",
       "    <tr>\n",
       "      <th>25</th>\n",
       "      <td>Persian Mix</td>\n",
       "      <td>3</td>\n",
       "    </tr>\n",
       "    <tr>\n",
       "      <th>33</th>\n",
       "      <td>Snowshoe</td>\n",
       "      <td>3</td>\n",
       "    </tr>\n",
       "    <tr>\n",
       "      <th>18</th>\n",
       "      <td>Japanese Bobtail Mix</td>\n",
       "      <td>2</td>\n",
       "    </tr>\n",
       "    <tr>\n",
       "      <th>36</th>\n",
       "      <td>Tonkinese Mix</td>\n",
       "      <td>2</td>\n",
       "    </tr>\n",
       "  </tbody>\n",
       "</table>\n",
       "</div>"
      ],
      "text/plain": [
       "                         Breed  Animal Type\n",
       "14      Domestic Shorthair Mix         1995\n",
       "12    Domestic Medium Hair Mix          236\n",
       "9        Domestic Longhair Mix          130\n",
       "31                 Siamese Mix          108\n",
       "34                Snowshoe Mix           29\n",
       "13          Domestic Shorthair           25\n",
       "20              Maine Coon Mix           24\n",
       "21                    Manx Mix           21\n",
       "29            Russian Blue Mix           14\n",
       "30                     Siamese           12\n",
       "8            Domestic Longhair            9\n",
       "11        Domestic Medium Hair            9\n",
       "1                   Angora Mix            6\n",
       "32  Siamese/Domestic Shorthair            6\n",
       "10   Domestic Longhair/Persian            3\n",
       "27                 Ragdoll Mix            3\n",
       "25                 Persian Mix            3\n",
       "33                    Snowshoe            3\n",
       "18        Japanese Bobtail Mix            2\n",
       "36               Tonkinese Mix            2"
      ]
     },
     "execution_count": 104,
     "metadata": {},
     "output_type": "execute_result"
    }
   ],
   "source": [
    "c_adopted_breed = cats_adopted.groupby('Breed', as_index = False)['Animal Type'].count()\n",
    "c_adopted_breed = c_adopted_breed.sort_values('Animal Type', ascending = False)\n",
    "c_adopted_breed = c_adopted_breed.head(20)\n",
    "c_total_adopted = c_adopted_breed['Animal Type'].sum()\n",
    "c_adopted_breed"
   ]
  },
  {
   "cell_type": "code",
   "execution_count": 105,
   "metadata": {
    "collapsed": true
   },
   "outputs": [],
   "source": [
    "n = list(c_adopted_breed['Animal Type'])\n",
    "c_names = list(c_adopted_breed['Breed'])"
   ]
  },
  {
   "cell_type": "code",
   "execution_count": 106,
   "metadata": {
    "collapsed": true
   },
   "outputs": [],
   "source": [
    "c_ratios=[]\n",
    "for i in range(0, len(n)):\n",
    "    c_ratios.append(n[i]/c_total_adopted)"
   ]
  },
  {
   "cell_type": "code",
   "execution_count": 112,
   "metadata": {},
   "outputs": [
    {
     "data": {
      "image/png": "[encoded data removed]",
      "text/plain": [
       "<matplotlib.figure.Figure at 0x1160aea20>"
      ]
     },
     "metadata": {},
     "output_type": "display_data"
    }
   ],
   "source": [
    "ind = np.arange(20)\n",
    "c_plot = plt.plot(c_ratios,ind, 'bo')\n",
    "plt.title('Adoption Rate By Breed - Cats')\n",
    "plt.xlabel('Fraction')\n",
    "plt.ylabel('Popular Breed')\n",
    "plt.yticks(ind, c_names)\n",
    "plt.show()"
   ]
  },
  {
   "cell_type": "code",
   "execution_count": null,
   "metadata": {
    "collapsed": true
   },
   "outputs": [],
   "source": []
  }
 ],
 "metadata": {
  "kernelspec": {
   "display_name": "Python 3",
   "language": "python",
   "name": "python3"
  },
  "language_info": {
   "codemirror_mode": {
    "name": "ipython",
    "version": 3
   },
   "file_extension": ".py",
   "mimetype": "text/x-python",
   "name": "python",
   "nbconvert_exporter": "python",
   "pygments_lexer": "ipython3",
   "version": "3.6.1"
  }
 },
 "nbformat": 4,
 "nbformat_minor": 2
}
